{
 "nbformat": 4,
 "nbformat_minor": 2,
 "metadata": {
  "language_info": {
   "name": "python",
   "codemirror_mode": {
    "name": "ipython",
    "version": 3
   },
   "version": "3.8.3-final"
  },
  "orig_nbformat": 2,
  "file_extension": ".py",
  "mimetype": "text/x-python",
  "name": "python",
  "npconvert_exporter": "python",
  "pygments_lexer": "ipython3",
  "version": 3,
  "kernelspec": {
   "name": "python38364bitrdkitnewcondaf895dc51750247fba5b8b2ae0dc864bf",
   "display_name": "Python 3.8.3 64-bit ('rdkit_new': conda)"
  }
 },
 "cells": [
  {
   "cell_type": "code",
   "execution_count": 1,
   "metadata": {},
   "outputs": [
    {
     "name": "stdout",
     "output_type": "stream",
     "text": "[3, 0, 2, 4, 1]\n[0, 1, 2, 3, 4]\n"
    }
   ],
   "source": [
    "#shuffle function to derive random subset for training\n",
    "from random import randint\n",
    "def shuffle(arr:list):\n",
    "    res = list(arr)\n",
    "    length = len(res)\n",
    "    for i in range(length):\n",
    "        index = randint(0,length-1-i)\n",
    "        res[index],res[length-1-i] = res[length-1-i], res[index]\n",
    "    return res\n",
    "\n",
    "a=[i for i in range(5)]\n",
    "print(shuffle(a))\n",
    "print(a)"
   ]
  },
  {
   "cell_type": "code",
   "execution_count": null,
   "metadata": {},
   "outputs": [],
   "source": []
  }
 ]
}