{
 "nbformat": 4,
 "nbformat_minor": 2,
 "metadata": {
  "language_info": {
   "name": "python",
   "codemirror_mode": {
    "name": "ipython",
    "version": 3
   },
   "version": "3.8.3-final"
  },
  "orig_nbformat": 2,
  "file_extension": ".py",
  "mimetype": "text/x-python",
  "name": "python",
  "npconvert_exporter": "python",
  "pygments_lexer": "ipython3",
  "version": 3,
  "kernelspec": {
   "name": "python38364bitrdkitnewcondaf895dc51750247fba5b8b2ae0dc864bf",
   "display_name": "Python 3.8.3 64-bit ('rdkit_new': conda)"
  }
 },
 "cells": [
  {
   "cell_type": "code",
   "execution_count": null,
   "metadata": {},
   "outputs": [],
   "source": [
    "\"\"\"\n",
    "给定一个机票的字符串二维数组 [from, to]，子数组中的两个成员分别表示飞机出发和降落的机场地点，对该行程进行重新规划排序。所有这些机票都属于一个从 JFK（肯尼迪国际机场）出发的先生，所以该行程必须从 JFK 开始。\n",
    "\n",
    "说明:\n",
    "\n",
    "    如果存在多种有效的行程，你可以按字符自然排序返回最小的行程组合。例如，行程 [\"JFK\", \"LGA\"] 与 [\"JFK\", \"LGB\"] 相比就更小，排序更靠前\n",
    "    所有的机场都用三个大写字母表示（机场代码）。\n",
    "    假定所有机票至少存在一种合理的行程。\n",
    "\"\"\""
   ]
  },
  {
   "cell_type": "code",
   "execution_count": 37,
   "metadata": {},
   "outputs": [],
   "source": [
    "ticket =  [[\"JFK\",\"SFO\"],[\"JFK\",\"ATL\"],[\"SFO\",\"ATL\"],[\"ATL\",\"JFK\"],[\"ATL\",\"SFO\"]]\n"
   ]
  },
  {
   "cell_type": "code",
   "execution_count": 38,
   "metadata": {},
   "outputs": [],
   "source": [
    "def findItinerary(tickets):\n",
    "    def findnext(station):\n",
    "        next_st = [] \n",
    "        for item in tickets:\n",
    "            if item[0] == station:\n",
    "                next_st.append(item[1])\n",
    "        next_st.sort()\n",
    "        return next_st\n",
    "\n",
    "    re_arr = [\"JFK\"]\n",
    "    for _ in range(len(tickets)):\n",
    "        next_stat = findnext(re_arr[-1])\n",
    "        if len(next_stat) == 1:\n",
    "            re_arr.append(next_stat[0])\n",
    "        else:\n",
    "            re_arr.append(next_stat[0])\n",
    "            tickets.remove([re_arr[-2],re_arr[-1]])\n",
    "\n",
    "    return re_arr"
   ]
  },
  {
   "cell_type": "code",
   "execution_count": 39,
   "metadata": {},
   "outputs": [
    {
     "name": "stdout",
     "output_type": "stream",
     "text": "['JFK', 'ATL', 'JFK', 'SFO', 'ATL', 'SFO']\n"
    }
   ],
   "source": [
    "print(findItinerary(ticket))"
   ]
  },
  {
   "cell_type": "code",
   "execution_count": null,
   "metadata": {},
   "outputs": [],
   "source": [
    "        def dfs(curr: str):\n",
    "            while vec[curr]:\n",
    "                tmp = heapq.heappop(vec[curr])\n",
    "                dfs(tmp)\n",
    "            stack.append(curr)\n",
    "\n",
    "        vec = collections.defaultdict(list)\n",
    "        for depart, arrive in tickets:\n",
    "            vec[depart].append(arrive)\n",
    "        for key in vec:\n",
    "            heapq.heapify(vec[key])\n",
    "        \n",
    "        stack = list()\n",
    "        dfs(\"JFK\")\n",
    "        return stack[::-1]"
   ]
  }
 ]
}