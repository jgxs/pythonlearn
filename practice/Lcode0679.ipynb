o{
 "nbformat": 4,
 "nbformat_minor": 2,
 "metadata": {
  "language_info": {
   "name": "python",
   "codemirror_mode": {
    "name": "ipython",
    "version": 3
   }
  },
  "orig_nbformat": 2,
  "file_extension": ".py",
  "mimetype": "text/x-python",
  "name": "python",
  "npconvert_exporter": "python",
  "pygments_lexer": "ipython3",
  "version": 3
 },
 "cells": [
  {
   "cell_type": "code",
   "execution_count": null,
   "metadata": {},
   "outputs": [],
   "source": [
    "\"\"\"\n",
    "你有 4 张写有 1 到 9 数字的牌。你需要判断是否能通过 *，/，+，-，(，) 的运算得到 24。\n",
    "\n",
    "示例 1:\n",
    "\n",
    "输入: [4, 1, 8, 7]\n",
    "输出: True\n",
    "解释: (8-4) * (7-1) = 24\n",
    "\n",
    "示例 2:\n",
    "\n",
    "输入: [1, 2, 1, 2]\n",
    "输出: False\n",
    "\n",
    "来源：力扣（LeetCode）\n",
    "链接：https://leetcode-cn.com/problems/24-game\n",
    "著作权归领扣网络所有。商业转载请联系官方授权，非商业转载请注明出处。"
   ]
  },
  {
   "cell_type": "code",
   "execution_count": null,
   "metadata": {},
   "outputs": [],
   "source": [
    "#使用 itertools.permutation 生成全排列\n",
    "#如果 b == 0，那么，a*b, b and a/b 均为 0，但由于存储在集合中，所以只有一个 0\n",
    "#*rest 接收不定数量的参数\n",
    "#因为除法可能会生成浮点数，因而使用近似 24 的数来判断\n"
   ]
  },
  {
   "cell_type": "code",
   "execution_count": null,
   "metadata": {},
   "outputs": [],
   "source": [
    "class Solution:\n",
    "    def judgePoint24(self, nums: List[int]) -> bool:\n",
    "        if len(nums) == 1:\n",
    "            return math.isclose(nums[0], 24)\n",
    "        return any(self.judgePoint24([x] + rest)\n",
    "                    for a, b, *rest in itertools.permutations(nums)\n",
    "                    for x in {a+b, a-b, a*b, b and a/b})\n",
    "'''\n",
    "作者：elevenxx\n",
    "链接：https://leetcode-cn.com/problems/24-game/solution/sheng-cheng-pai-lie-hou-di-gui-by-elevenxx/\n",
    "来源：力扣（LeetCode）\n",
    "著作权归作者所有。商业转载请联系作者获得授权，非商业转载请注明出处。\n",
    "'''"
   ]
  }
 ]
}