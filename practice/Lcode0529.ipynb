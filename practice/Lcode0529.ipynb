{
 "nbformat": 4,
 "nbformat_minor": 2,
 "metadata": {
  "language_info": {
   "name": "python",
   "codemirror_mode": {
    "name": "ipython",
    "version": 3
   },
   "version": "3.8.3-final"
  },
  "orig_nbformat": 2,
  "file_extension": ".py",
  "mimetype": "text/x-python",
  "name": "python",
  "npconvert_exporter": "python",
  "pygments_lexer": "ipython3",
  "version": 3,
  "kernelspec": {
   "name": "python38364bitrdkitnewcondaf895dc51750247fba5b8b2ae0dc864bf",
   "display_name": "Python 3.8.3 64-bit ('rdkit_new': conda)"
  }
 },
 "cells": [
  {
   "cell_type": "code",
   "execution_count": 1,
   "metadata": {},
   "outputs": [
    {
     "data": {
      "text/plain": "\"\\n让我们一起来玩扫雷游戏！\\n\\n给定一个代表游戏板的二维字符矩阵。 'M' 代表一个未挖出的地雷，'E' 代表一个未挖出的空方块，'B' 代表没有相邻（上，下，左，右，和所有4个对角线）地雷的已挖出的空白方块，数字（'1' 到 '8'）表示有多少地雷与这块已挖出的方块相邻，'X' 则表示一个已挖出的地雷。\\n\\n现在给出在所有未挖出的方块中（'M'或者'E'）的下一个点击位置（行和列索引），根据以下规则，返回相应位置被点击后对应的面板：\\n\\n    如果一个地雷（'M'）被挖出，游戏就结束了- 把它改为 'X'。\\n    如果一个没有相邻地雷的空方块（'E'）被挖出，修改它为（'B'），并且所有和其相邻的未挖出方块都应该被递归地揭露。\\n    如果一个至少与一个地雷相邻的空方块（'E'）被挖出，修改它为数字（'1'到'8'），表示相邻地雷的数量。\\n    如果在此次点击中，若无更多方块可被揭露，则返回面板。\\n\\n来源：力扣（LeetCode）\\n链接：https://leetcode-cn.com/problems/minesweeper\\n著作权归领扣网络所有。商业转载请联系官方授权，非商业转载请注明出处。\\n\""
     },
     "execution_count": 1,
     "metadata": {},
     "output_type": "execute_result"
    }
   ],
   "source": [
    "###0529 扫雷游戏\n",
    "\"\"\"\n",
    "让我们一起来玩扫雷游戏！\n",
    "\n",
    "给定一个代表游戏板的二维字符矩阵。 'M' 代表一个未挖出的地雷，'E' 代表一个未挖出的空方块，'B' 代表没有相邻（上，下，左，右，和所有4个对角线）地雷的已挖出的空白方块，数字（'1' 到 '8'）表示有多少地雷与这块已挖出的方块相邻，'X' 则表示一个已挖出的地雷。\n",
    "\n",
    "现在给出在所有未挖出的方块中（'M'或者'E'）的下一个点击位置（行和列索引），根据以下规则，返回相应位置被点击后对应的面板：\n",
    "\n",
    "    如果一个地雷（'M'）被挖出，游戏就结束了- 把它改为 'X'。\n",
    "    如果一个没有相邻地雷的空方块（'E'）被挖出，修改它为（'B'），并且所有和其相邻的未挖出方块都应该被递归地揭露。\n",
    "    如果一个至少与一个地雷相邻的空方块（'E'）被挖出，修改它为数字（'1'到'8'），表示相邻地雷的数量。\n",
    "    如果在此次点击中，若无更多方块可被揭露，则返回面板。\n",
    "\n",
    "来源：力扣（LeetCode）\n",
    "链接：https://leetcode-cn.com/problems/minesweeper\n",
    "著作权归领扣网络所有。商业转载请联系官方授权，非商业转载请注明出处。\n",
    "\"\"\""
   ]
  },
  {
   "cell_type": "code",
   "execution_count": 2,
   "metadata": {},
   "outputs": [],
   "source": [
    "board = [['E', 'E', 'E', 'E', 'E'],\n",
    " ['E', 'E', 'M', 'E', 'E'],\n",
    " ['E', 'E', 'E', 'E', 'E'],\n",
    " ['E', 'E', 'E', 'E', 'E']]\n",
    "Click = [3,0]"
   ]
  },
  {
   "cell_type": "code",
   "execution_count": 3,
   "metadata": {},
   "outputs": [],
   "source": [
    "#800ms\n",
    "def updateBoard(board, click):\n",
    "    r,l = click\n",
    "    rmax,lmax = len(board), len(board[0])\n",
    "    allmoves = [[-1,-1],[-1,0],[-1,1],[0,-1],[0,1],[1,-1],[1,0],[1,1]]\n",
    "    update = [click]\n",
    "    checked = []\n",
    "    if board[r][l] == 'M':\n",
    "        board[r][l] = 'X'\n",
    "        return board\n",
    "    while update:\n",
    "        r,l = update.pop()\n",
    "        while [r,l] in checked:\n",
    "            try:\n",
    "                r,l = update.pop()\n",
    "            except:\n",
    "                return board\n",
    "        checked.append([r,l])\n",
    "        count = 0\n",
    "        for move in allmoves:\n",
    "            rnew,lnew = r+move[0], l+move[1]\n",
    "            if 0<=rnew<rmax and 0<=lnew<lmax:\n",
    "                if board[rnew][lnew] == 'M':\n",
    "                    count += 1\n",
    "        if board[r][l] != 'M' and count > 0:\n",
    "            board[r][l] = str(count)\n",
    "        else:\n",
    "            board[r][l] = 'B'\n",
    "            for move in allmoves:\n",
    "                rnew,lnew = r+move[0], l+move[1]\n",
    "                if 0<=rnew<rmax and 0<=lnew<lmax:\n",
    "                    update.append([rnew,lnew])\n",
    "    return board"
   ]
  },
  {
   "cell_type": "code",
   "execution_count": 4,
   "metadata": {},
   "outputs": [
    {
     "data": {
      "text/plain": "[['B', '1', 'E', '1', 'B'],\n ['B', '1', 'M', '1', 'B'],\n ['B', '1', '1', '1', 'B'],\n ['B', 'B', 'B', 'B', 'B']]"
     },
     "execution_count": 4,
     "metadata": {},
     "output_type": "execute_result"
    }
   ],
   "source": [
    "updateBoard(board,Click)"
   ]
  },
  {
   "cell_type": "code",
   "execution_count": null,
   "metadata": {},
   "outputs": [],
   "source": []
  }
 ]
}