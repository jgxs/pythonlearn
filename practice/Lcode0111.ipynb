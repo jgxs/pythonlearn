{
 "nbformat": 4,
 "nbformat_minor": 2,
 "metadata": {
  "language_info": {
   "name": "python",
   "codemirror_mode": {
    "name": "ipython",
    "version": 3
   },
   "version": "3.8.3-final"
  },
  "orig_nbformat": 2,
  "file_extension": ".py",
  "mimetype": "text/x-python",
  "name": "python",
  "npconvert_exporter": "python",
  "pygments_lexer": "ipython3",
  "version": 3,
  "kernelspec": {
   "name": "python38364bitrdkitnewcondaf895dc51750247fba5b8b2ae0dc864bf",
   "display_name": "Python 3.8.3 64-bit ('rdkit_new': conda)"
  }
 },
 "cells": [
  {
   "cell_type": "code",
   "execution_count": 1,
   "metadata": {},
   "outputs": [
    {
     "ename": "SyntaxError",
     "evalue": "invalid character in identifier (<ipython-input-1-94bd99ea4a02>, line 1)",
     "output_type": "error",
     "traceback": [
      "\u001b[0;36m  File \u001b[0;32m\"<ipython-input-1-94bd99ea4a02>\"\u001b[0;36m, line \u001b[0;32m1\u001b[0m\n\u001b[0;31m    给定一个二叉树，找出其最小深度。\u001b[0m\n\u001b[0m                   ^\u001b[0m\n\u001b[0;31mSyntaxError\u001b[0m\u001b[0;31m:\u001b[0m invalid character in identifier\n"
     ]
    }
   ],
   "source": [
    "#给定一个二叉树，找出其最小深度。\n",
    "#最小深度是从根节点到最近叶子节点的最短路径上的节点数量。\n",
    "#说明: 叶子节点是指没有子节点的节点。\n",
    "\"\"\"\n",
    "Given a binary tree, find its minimum depth.\n",
    "\n",
    "The minimum depth is the number of nodes along the shortest path from the root node down to the nearest leaf node.\n",
    "\n",
    "Note: A leaf is a node with no children.\n",
    "\n",
    "Example:\n",
    "\n",
    "Given binary tree [3,9,20,null,null,15,7],\n",
    "\n",
    "    3\n",
    "   / \\\n",
    "  9  20\n",
    "    /  \\\n",
    "   15   7\n",
    "\n",
    "return its minimum depth = 2.\n",
    "\n",
    "来源：力扣（LeetCode）\n",
    "链接：https://leetcode-cn.com/problems/minimum-depth-of-binary-tree\n",
    "著作权归领扣网络所有。商业转载请联系官方授权，非商业转载请注明出处。\n",
    "\"\"\""
   ]
  },
  {
   "cell_type": "code",
   "execution_count": null,
   "metadata": {},
   "outputs": [],
   "source": [
    "def minDepth(self, root: TreeNode) -> int:\n",
    "    #dfs\n",
    "    if not root:\n",
    "        return 0\n",
    "    lever = [root]\n",
    "    count = 0\n",
    "    while lever:\n",
    "        count += 1\n",
    "        length = len(lever)\n",
    "        for i in range(length):\n",
    "            leaf = lever.pop(0)\n",
    "            if leaf.left == None and leaf.right == None:\n",
    "                return count\n",
    "            if leaf.left:\n",
    "                lever.append(leaf.left)\n",
    "            if leaf.right:\n",
    "                lever.append(leaf.right)"
   ]
  },
  {
   "cell_type": "code",
   "execution_count": null,
   "metadata": {},
   "outputs": [],
   "source": []
  }
 ]
}