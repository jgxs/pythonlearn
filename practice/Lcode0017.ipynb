{
 "nbformat": 4,
 "nbformat_minor": 2,
 "metadata": {
  "language_info": {
   "name": "python",
   "codemirror_mode": {
    "name": "ipython",
    "version": 3
   },
   "version": "3.8.3-final"
  },
  "orig_nbformat": 2,
  "file_extension": ".py",
  "mimetype": "text/x-python",
  "name": "python",
  "npconvert_exporter": "python",
  "pygments_lexer": "ipython3",
  "version": 3,
  "kernelspec": {
   "name": "python38364bitrdkitnewcondaf895dc51750247fba5b8b2ae0dc864bf",
   "display_name": "Python 3.8.3 64-bit ('rdkit_new': conda)"
  }
 },
 "cells": [
  {
   "cell_type": "code",
   "execution_count": 1,
   "metadata": {},
   "outputs": [],
   "source": [
    "#给定一个仅包含数字 2-9 的字符串，返回所有它能表示的字母组合。\n",
    "#给出数字到字母的映射如下（与电话按键相同）。注意 1 不对应任何字母。"
   ]
  },
  {
   "cell_type": "code",
   "execution_count": 2,
   "metadata": {},
   "outputs": [],
   "source": [
    "def letterCombinations(digits):\n",
    "    dic = {'2':['a','b','c'],'3':['d','e','f'],'4':['g','h','i'],'5':['j','k','l'],'6':['m','n','o'],'7':['p','q','r','s'],'8':['t','u','v'],'9':['w','x','y','z']}\n",
    "    prefix = [[\"\"]]\n",
    "    for i in digits:\n",
    "        trans = prefix.pop()\n",
    "        added = []\n",
    "        for item in trans:\n",
    "            for j in dic[i]:\n",
    "                added.append(item+j)\n",
    "        prefix.append(added)\n",
    "    return prefix[0]\n",
    "        "
   ]
  },
  {
   "cell_type": "code",
   "execution_count": 3,
   "metadata": {},
   "outputs": [
    {
     "name": "stdout",
     "output_type": "stream",
     "text": "['ajggg', 'ajggh', 'ajggi', 'ajghg', 'ajghh', 'ajghi', 'ajgig', 'ajgih', 'ajgii', 'ajhgg', 'ajhgh', 'ajhgi', 'ajhhg', 'ajhhh', 'ajhhi', 'ajhig', 'ajhih', 'ajhii', 'ajigg', 'ajigh', 'ajigi', 'ajihg', 'ajihh', 'ajihi', 'ajiig', 'ajiih', 'ajiii', 'akggg', 'akggh', 'akggi', 'akghg', 'akghh', 'akghi', 'akgig', 'akgih', 'akgii', 'akhgg', 'akhgh', 'akhgi', 'akhhg', 'akhhh', 'akhhi', 'akhig', 'akhih', 'akhii', 'akigg', 'akigh', 'akigi', 'akihg', 'akihh', 'akihi', 'akiig', 'akiih', 'akiii', 'alggg', 'alggh', 'alggi', 'alghg', 'alghh', 'alghi', 'algig', 'algih', 'algii', 'alhgg', 'alhgh', 'alhgi', 'alhhg', 'alhhh', 'alhhi', 'alhig', 'alhih', 'alhii', 'aligg', 'aligh', 'aligi', 'alihg', 'alihh', 'alihi', 'aliig', 'aliih', 'aliii', 'bjggg', 'bjggh', 'bjggi', 'bjghg', 'bjghh', 'bjghi', 'bjgig', 'bjgih', 'bjgii', 'bjhgg', 'bjhgh', 'bjhgi', 'bjhhg', 'bjhhh', 'bjhhi', 'bjhig', 'bjhih', 'bjhii', 'bjigg', 'bjigh', 'bjigi', 'bjihg', 'bjihh', 'bjihi', 'bjiig', 'bjiih', 'bjiii', 'bkggg', 'bkggh', 'bkggi', 'bkghg', 'bkghh', 'bkghi', 'bkgig', 'bkgih', 'bkgii', 'bkhgg', 'bkhgh', 'bkhgi', 'bkhhg', 'bkhhh', 'bkhhi', 'bkhig', 'bkhih', 'bkhii', 'bkigg', 'bkigh', 'bkigi', 'bkihg', 'bkihh', 'bkihi', 'bkiig', 'bkiih', 'bkiii', 'blggg', 'blggh', 'blggi', 'blghg', 'blghh', 'blghi', 'blgig', 'blgih', 'blgii', 'blhgg', 'blhgh', 'blhgi', 'blhhg', 'blhhh', 'blhhi', 'blhig', 'blhih', 'blhii', 'bligg', 'bligh', 'bligi', 'blihg', 'blihh', 'blihi', 'bliig', 'bliih', 'bliii', 'cjggg', 'cjggh', 'cjggi', 'cjghg', 'cjghh', 'cjghi', 'cjgig', 'cjgih', 'cjgii', 'cjhgg', 'cjhgh', 'cjhgi', 'cjhhg', 'cjhhh', 'cjhhi', 'cjhig', 'cjhih', 'cjhii', 'cjigg', 'cjigh', 'cjigi', 'cjihg', 'cjihh', 'cjihi', 'cjiig', 'cjiih', 'cjiii', 'ckggg', 'ckggh', 'ckggi', 'ckghg', 'ckghh', 'ckghi', 'ckgig', 'ckgih', 'ckgii', 'ckhgg', 'ckhgh', 'ckhgi', 'ckhhg', 'ckhhh', 'ckhhi', 'ckhig', 'ckhih', 'ckhii', 'ckigg', 'ckigh', 'ckigi', 'ckihg', 'ckihh', 'ckihi', 'ckiig', 'ckiih', 'ckiii', 'clggg', 'clggh', 'clggi', 'clghg', 'clghh', 'clghi', 'clgig', 'clgih', 'clgii', 'clhgg', 'clhgh', 'clhgi', 'clhhg', 'clhhh', 'clhhi', 'clhig', 'clhih', 'clhii', 'cligg', 'cligh', 'cligi', 'clihg', 'clihh', 'clihi', 'cliig', 'cliih', 'cliii']\n"
    }
   ],
   "source": [
    "a = \"25444\"\n",
    "print(letterCombinations(a))"
   ]
  }
 ]
}