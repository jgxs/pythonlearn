{
 "nbformat": 4,
 "nbformat_minor": 2,
 "metadata": {
  "language_info": {
   "name": "python",
   "codemirror_mode": {
    "name": "ipython",
    "version": 3
   },
   "version": "3.8.3-final"
  },
  "orig_nbformat": 2,
  "file_extension": ".py",
  "mimetype": "text/x-python",
  "name": "python",
  "npconvert_exporter": "python",
  "pygments_lexer": "ipython3",
  "version": 3,
  "kernelspec": {
   "name": "python38364bitrdkitnewcondaf895dc51750247fba5b8b2ae0dc864bf",
   "display_name": "Python 3.8.3 64-bit ('rdkit_new': conda)"
  }
 },
 "cells": [
  {
   "cell_type": "code",
   "execution_count": 1,
   "metadata": {},
   "outputs": [],
   "source": [
    "#0819\n",
    "#Leetcode 647\n",
    "#给定一个字符串，你的任务是计算这个字符串中有多少个回文子串。\n",
    "#具有不同开始位置或结束位置的子串，即使是由相同的字符组成，也会被视作不同的子串。\n"
   ]
  },
  {
   "cell_type": "code",
   "execution_count": 2,
   "metadata": {},
   "outputs": [
    {
     "name": "stdout",
     "output_type": "stream",
     "text": "15\n"
    }
   ],
   "source": [
    "#遍历\n",
    "def countSubstrings(s: str) -> int:\n",
    "    if s:\n",
    "        count = 0\n",
    "        for i in range(len(s)):\n",
    "            if i == 0 and s == s[::-1]:\n",
    "                count += 1\n",
    "            elif s[i:] == s[:i-1:-1]:\n",
    "                count += 1\n",
    "        return count + countSubstrings(s[:-1])\n",
    "    else:\n",
    "        return 0\n",
    "\n",
    "print(countSubstrings(\"aaaaa\"))"
   ]
  },
  {
   "cell_type": "code",
   "execution_count": 3,
   "metadata": {},
   "outputs": [
    {
     "name": "stdout",
     "output_type": "stream",
     "text": "15\n"
    }
   ],
   "source": [
    "#Manacher\n",
    "def countsub_mana(s: str) -> int:\n",
    "    if not s:\n",
    "        return 0\n",
    "    s = \"$#\" + \"#\".join(s) + \"#!\"\n",
    "    length = len(s)\n",
    "    f = [0]*length\n",
    "    iMax, rMax, ans = [0]*3\n",
    "    for i in range(1,length-1):\n",
    "        f[i] = min(rMax - i + 1, f[2 * iMax - i]) if i <= rMax else 1\n",
    "        while s[i+f[i]] == s[i-f[i]]:\n",
    "            f[i] += 1\n",
    "        if i + f[i] - 1 > rMax:\n",
    "            iMax = i\n",
    "            rMax = i + f[i] - 1\n",
    "        ans += f[i]//2 \n",
    "    return ans\n",
    "print(countsub_mana(\"aaaaa\"))\n"
   ]
  },
  {
   "cell_type": "code",
   "execution_count": 4,
   "metadata": {},
   "outputs": [
    {
     "name": "stdout",
     "output_type": "stream",
     "text": "Help on method_descriptor:\n\njoin(self, iterable, /)\n    Concatenate any number of strings.\n    \n    The string whose method is called is inserted in between each given string.\n    The result is returned as a new string.\n    \n    Example: '.'.join(['ab', 'pq', 'rs']) -> 'ab.pq.rs'\n\n"
    }
   ],
   "source": [
    "help(str.join)"
   ]
  },
  {
   "cell_type": "code",
   "execution_count": null,
   "metadata": {},
   "outputs": [],
   "source": []
  }
 ]
}