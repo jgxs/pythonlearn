{
 "nbformat": 4,
 "nbformat_minor": 2,
 "metadata": {
  "language_info": {
   "name": "python",
   "codemirror_mode": {
    "name": "ipython",
    "version": 3
   },
   "version": "3.6.9-final"
  },
  "orig_nbformat": 2,
  "file_extension": ".py",
  "mimetype": "text/x-python",
  "name": "python",
  "npconvert_exporter": "python",
  "pygments_lexer": "ipython3",
  "version": 3,
  "kernelspec": {
   "name": "python36964bitrdkitconda0fce62c6e9e34b54a2df0cafbd545d96",
   "display_name": "Python 3.6.9 64-bit ('rdkit': conda)"
  }
 },
 "cells": [
  {
   "cell_type": "code",
   "execution_count": 1,
   "metadata": {},
   "outputs": [
    {
     "name": "stdout",
     "output_type": "stream",
     "text": "3736         OC    474    ASP    OT2   3736      -0.67    15.9994   ; qtot -8\n\n['\\n', '  3736         OC    474    ASP    OT2   3736      -0.67    15.9994   ; qtot -8\\n']\n"
    }
   ],
   "source": [
    "lines_index=[\"\"]*2\n",
    "with open ('/home/chengyj/git_handbook/makeitp/test/5q0n_9L4c/topol_Protein_chain_C.itp') as fl: \n",
    "    for line in fl:\n",
    "        if line == \"[ bonds ]\\n\":\n",
    "            end = lines_index[1]\n",
    "            break  \n",
    "        lines_index[0],lines_index[1] = line,lines_index[0]  \n",
    "print(end)\n",
    "print(lines_index) "
   ]
  },
  {
   "cell_type": "code",
   "execution_count": null,
   "metadata": {},
   "outputs": [],
   "source": []
  }
 ]
}