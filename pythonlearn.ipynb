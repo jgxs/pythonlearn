{
 "nbformat": 4,
 "nbformat_minor": 2,
 "metadata": {
  "language_info": {
   "name": "python",
   "codemirror_mode": {
    "name": "ipython",
    "version": 3
   },
   "version": "3.7.4-final"
  },
  "orig_nbformat": 2,
  "file_extension": ".py",
  "mimetype": "text/x-python",
  "name": "python",
  "npconvert_exporter": "python",
  "pygments_lexer": "ipython3",
  "version": 3,
  "kernelspec": {
   "name": "python36964bitrdkitconda0fce62c6e9e34b54a2df0cafbd545d96",
   "display_name": "Python 3.6.9 64-bit ('rdkit': conda)"
  }
 },
 "cells": [
  {
   "cell_type": "code",
   "execution_count": 1,
   "metadata": {},
   "outputs": [],
   "source": [
    "#randint 用于产生随机数\n",
    "from random import randint \n",
    "#heapq 堆\n",
    "import heapq\n",
    "#常用工具\n",
    "import functools"
   ]
  },
  {
   "cell_type": "code",
   "execution_count": 2,
   "metadata": {},
   "outputs": [
    {
     "name": "stdout",
     "output_type": "stream",
     "text": "something of python learning\n"
    }
   ],
   "source": [
    "#f-string\n",
    "welcome_text = \"something of python learning\"\n",
    "print(f\"{welcome_text}\")"
   ]
  },
  {
   "cell_type": "code",
   "execution_count": 3,
   "metadata": {},
   "outputs": [
    {
     "name": "stdout",
     "output_type": "stream",
     "text": "[0, 0, 0, 0, 0, 0]\n"
    }
   ],
   "source": [
    "a=[0]*6\n",
    "print(a)"
   ]
  },
  {
   "cell_type": "code",
   "execution_count": 4,
   "metadata": {},
   "outputs": [
    {
     "name": "stdout",
     "output_type": "stream",
     "text": "6\n7\n"
    }
   ],
   "source": [
    "#复制列表的错误方法\n",
    "b=a\n",
    "print(len(a))\n",
    "b.append(0)\n",
    "print(len(a))\n",
    "#直接用 '=' 赋值，会使得对b的操作也会在a上发生"
   ]
  },
  {
   "cell_type": "code",
   "execution_count": 5,
   "metadata": {},
   "outputs": [
    {
     "name": "stdout",
     "output_type": "stream",
     "text": "140003189923208\n140003189923208\n8\n140003189923208\n"
    }
   ],
   "source": [
    "#原因在于：python中的变量相当于c++中的指针，\n",
    "#操作的对象是对于内存地址上的值，而非变量本身\n",
    "print(id(a))\n",
    "print(id(b))\n",
    "b.append(0)\n",
    "print(len(a))\n",
    "print(id(a))"
   ]
  },
  {
   "cell_type": "code",
   "execution_count": 6,
   "metadata": {},
   "outputs": [
    {
     "name": "stdout",
     "output_type": "stream",
     "text": "140003189653704 [[10], 20]\n140003189653640 [[10], 20]\n140003189654536 [[10], 20]\n140003189923208 [[10], 20]\n140003189653768 [[10], 20]\n140003189653832 [[10], 20]\n140003189653704 [[10, 11], 20, 21]\n140003189653576\n140003189653640 [[10, 11], 20]\n140003189653576\n140003189654536 [[10, 11], 20]\n140003189923208 [[10, 11], 20]\n140003189653768 [[10, 11], 20]\n140003189653832 [[10], 20]\n140003189654408\n"
    }
   ],
   "source": [
    "#正确的复制方法\n",
    "import copy\n",
    "a = [[10], 20]\n",
    "b = a[:]\n",
    "c = list(a)\n",
    "d = a * 1\n",
    "e = copy.copy(a)\n",
    "f = copy.deepcopy(a)\n",
    "print(id(a), a)\n",
    "print(id(b), b)\n",
    "print(id(c), c)\n",
    "print(id(d), d)\n",
    "print(id(e), e)\n",
    "print(id(f), f)\n",
    "a.append(21)\n",
    "a[0].append(11)\n",
    "print(id(a), a)\n",
    "print(id(a[0]))\n",
    "print(id(b), b)\n",
    "print(id(b[0]))\n",
    "print(id(c), c)\n",
    "print(id(d), d)\n",
    "print(id(e), e)\n",
    "print(id(f), f)\n",
    "print(id(f[0]))\n",
    "#可以看出，使用 a[:], list(a), a*1, copy.copy(a)四种方式复制列表,\n",
    "#结果都可以得到一个新的列表。\n",
    "#但是如果列表中含有列表，所有b, c, d, e四个新列表的子列表都是指引到同一个对象上。\n",
    "#只有使用copy.deepcopy(a)方法得到的新列表f才是包括子列表在内的完全复制。"
   ]
  },
  {
   "cell_type": "code",
   "execution_count": 7,
   "metadata": {},
   "outputs": [
    {
     "name": "stdout",
     "output_type": "stream",
     "text": "[0, 1, 2, 3, 4, 5, 6, 7, 8, 9]\n[1, 3, 5, 7, 9]\n[0, 1, 2, 3, 4, 5, 6, 7, 8, 9]\n[]\n[]\n"
    }
   ],
   "source": [
    "#删除元素的正确方法，注意检索\n",
    "#正向的remove和pop将改变其余所有元素的检索和位置\n",
    "#所以没\n",
    "test=[i for i in range(10)]\n",
    "print(test)\n",
    "for i in test:\n",
    "    test.remove(i)\n",
    "print(test)\n",
    "test=[i for i in range(10)]\n",
    "print(test)\n",
    "count=0\n",
    "for i in range(len(test)):\n",
    "    test.pop(i-count)\n",
    "    count+=1\n",
    "print(test)\n",
    "test = [i for i in range(10)]\n",
    "for i in range(len(test)):\n",
    "    test.pop()\n",
    "print(test)"
   ]
  },
  {
   "cell_type": "code",
   "execution_count": 8,
   "metadata": {},
   "outputs": [
    {
     "name": "stdout",
     "output_type": "stream",
     "text": "Help on int object:\n\nclass int(object)\n |  int(x=0) -> integer\n |  int(x, base=10) -> integer\n |  \n |  Convert a number or string to an integer, or return 0 if no arguments\n |  are given.  If x is a number, return x.__int__().  For floating point\n |  numbers, this truncates towards zero.\n |  \n |  If x is not a number or if base is given, then x must be a string,\n |  bytes, or bytearray instance representing an integer literal in the\n |  given base.  The literal can be preceded by '+' or '-' and be surrounded\n |  by whitespace.  The base defaults to 10.  Valid bases are 0 and 2-36.\n |  Base 0 means to interpret the base from the string as an integer literal.\n |  >>> int('0b100', base=0)\n |  4\n |  \n |  Methods defined here:\n |  \n |  __abs__(self, /)\n |      abs(self)\n |  \n |  __add__(self, value, /)\n |      Return self+value.\n |  \n |  __and__(self, value, /)\n |      Return self&value.\n |  \n |  __bool__(self, /)\n |      self != 0\n |  \n |  __ceil__(...)\n |      Ceiling of an Integral returns itself.\n |  \n |  __divmod__(self, value, /)\n |      Return divmod(self, value).\n |  \n |  __eq__(self, value, /)\n |      Return self==value.\n |  \n |  __float__(self, /)\n |      float(self)\n |  \n |  __floor__(...)\n |      Flooring an Integral returns itself.\n |  \n |  __floordiv__(self, value, /)\n |      Return self//value.\n |  \n |  __format__(...)\n |      default object formatter\n |  \n |  __ge__(self, value, /)\n |      Return self>=value.\n |  \n |  __getattribute__(self, name, /)\n |      Return getattr(self, name).\n |  \n |  __getnewargs__(...)\n |  \n |  __gt__(self, value, /)\n |      Return self>value.\n |  \n |  __hash__(self, /)\n |      Return hash(self).\n |  \n |  __index__(self, /)\n |      Return self converted to an integer, if self is suitable for use as an index into a list.\n |  \n |  __int__(self, /)\n |      int(self)\n |  \n |  __invert__(self, /)\n |      ~self\n |  \n |  __le__(self, value, /)\n |      Return self<=value.\n |  \n |  __lshift__(self, value, /)\n |      Return self<<value.\n |  \n |  __lt__(self, value, /)\n |      Return self<value.\n |  \n |  __mod__(self, value, /)\n |      Return self%value.\n |  \n |  __mul__(self, value, /)\n |      Return self*value.\n |  \n |  __ne__(self, value, /)\n |      Return self!=value.\n |  \n |  __neg__(self, /)\n |      -self\n |  \n |  __new__(*args, **kwargs) from builtins.type\n |      Create and return a new object.  See help(type) for accurate signature.\n |  \n |  __or__(self, value, /)\n |      Return self|value.\n |  \n |  __pos__(self, /)\n |      +self\n |  \n |  __pow__(self, value, mod=None, /)\n |      Return pow(self, value, mod).\n |  \n |  __radd__(self, value, /)\n |      Return value+self.\n |  \n |  __rand__(self, value, /)\n |      Return value&self.\n |  \n |  __rdivmod__(self, value, /)\n |      Return divmod(value, self).\n |  \n |  __repr__(self, /)\n |      Return repr(self).\n |  \n |  __rfloordiv__(self, value, /)\n |      Return value//self.\n |  \n |  __rlshift__(self, value, /)\n |      Return value<<self.\n |  \n |  __rmod__(self, value, /)\n |      Return value%self.\n |  \n |  __rmul__(self, value, /)\n |      Return value*self.\n |  \n |  __ror__(self, value, /)\n |      Return value|self.\n |  \n |  __round__(...)\n |      Rounding an Integral returns itself.\n |      Rounding with an ndigits argument also returns an integer.\n |  \n |  __rpow__(self, value, mod=None, /)\n |      Return pow(value, self, mod).\n |  \n |  __rrshift__(self, value, /)\n |      Return value>>self.\n |  \n |  __rshift__(self, value, /)\n |      Return self>>value.\n |  \n |  __rsub__(self, value, /)\n |      Return value-self.\n |  \n |  __rtruediv__(self, value, /)\n |      Return value/self.\n |  \n |  __rxor__(self, value, /)\n |      Return value^self.\n |  \n |  __sizeof__(...)\n |      Returns size in memory, in bytes\n |  \n |  __str__(self, /)\n |      Return str(self).\n |  \n |  __sub__(self, value, /)\n |      Return self-value.\n |  \n |  __truediv__(self, value, /)\n |      Return self/value.\n |  \n |  __trunc__(...)\n |      Truncating an Integral returns itself.\n |  \n |  __xor__(self, value, /)\n |      Return self^value.\n |  \n |  bit_length(...)\n |      int.bit_length() -> int\n |      \n |      Number of bits necessary to represent self in binary.\n |      >>> bin(37)\n |      '0b100101'\n |      >>> (37).bit_length()\n |      6\n |  \n |  conjugate(...)\n |      Returns self, the complex conjugate of any int.\n |  \n |  from_bytes(...) from builtins.type\n |      int.from_bytes(bytes, byteorder, *, signed=False) -> int\n |      \n |      Return the integer represented by the given array of bytes.\n |      \n |      The bytes argument must be a bytes-like object (e.g. bytes or bytearray).\n |      \n |      The byteorder argument determines the byte order used to represent the\n |      integer.  If byteorder is 'big', the most significant byte is at the\n |      beginning of the byte array.  If byteorder is 'little', the most\n |      significant byte is at the end of the byte array.  To request the native\n |      byte order of the host system, use `sys.byteorder' as the byte order value.\n |      \n |      The signed keyword-only argument indicates whether two's complement is\n |      used to represent the integer.\n |  \n |  to_bytes(...)\n |      int.to_bytes(length, byteorder, *, signed=False) -> bytes\n |      \n |      Return an array of bytes representing an integer.\n |      \n |      The integer is represented using length bytes.  An OverflowError is\n |      raised if the integer is not representable with the given number of\n |      bytes.\n |      \n |      The byteorder argument determines the byte order used to represent the\n |      integer.  If byteorder is 'big', the most significant byte is at the\n |      beginning of the byte array.  If byteorder is 'little', the most\n |      significant byte is at the end of the byte array.  To request the native\n |      byte order of the host system, use `sys.byteorder' as the byte order value.\n |      \n |      The signed keyword-only argument determines whether two's complement is\n |      used to represent the integer.  If signed is False and a negative integer\n |      is given, an OverflowError is raised.\n |  \n |  ----------------------------------------------------------------------\n |  Data descriptors defined here:\n |  \n |  denominator\n |      the denominator of a rational number in lowest terms\n |  \n |  imag\n |      the imaginary part of a complex number\n |  \n |  numerator\n |      the numerator of a rational number in lowest terms\n |  \n |  real\n |      the real part of a complex number\n\n"
    }
   ],
   "source": [
    "test.append(0)\n",
    "help(test.pop())"
   ]
  },
  {
   "cell_type": "code",
   "execution_count": 9,
   "metadata": {},
   "outputs": [
    {
     "name": "stdout",
     "output_type": "stream",
     "text": "13.0\n"
    }
   ],
   "source": [
    "#列表解析\n",
    "#列表解析给函数赋值\n",
    "def get_dis(pos1, pos2) :\n",
    "    x1,y1,z1=[float(pos1[i]) for i in range(3)]\n",
    "    x2,y2,z2=[float(pos2[i]) for i in range(3)]\n",
    "    dis=((x1-x2)**2 + (y1-y2)**2 +(z1-z2)**2)**0.5\n",
    "    return dis\n",
    "print(get_dis([0,0,0],[3,4,12]))"
   ]
  },
  {
   "cell_type": "code",
   "execution_count": 10,
   "metadata": {},
   "outputs": [
    {
     "name": "stdout",
     "output_type": "stream",
     "text": "利用列表解析产生10个随机数\n[5, -10, -3, 2, 0, -9, -6, -7, 10, -7]\n"
    }
   ],
   "source": [
    "#利用列表解析产生10个随机数\n",
    "print(\"利用列表解析产生10个随机数\")\n",
    "list_example = [randint(-10,10) for i in range(10)]\n",
    "print(list_example)"
   ]
  },
  {
   "cell_type": "code",
   "execution_count": 11,
   "metadata": {},
   "outputs": [
    {
     "name": "stdout",
     "output_type": "stream",
     "text": "利用列表解析筛选符合要求的项\n从\n[5, -10, -3, 2, 0, -9, -6, -7, 10, -7] \n筛选出所有正数\n[5, 2, 10]\n"
    }
   ],
   "source": [
    "#利用列表解析筛选符合要求的项\n",
    "print(\"利用列表解析筛选符合要求的项\")\n",
    "list_refine=[item for item in list_example if item > 0]\n",
    "print(f\"从\\n{list_example} \\n筛选出所有正数\\n{list_refine}\")"
   ]
  },
  {
   "cell_type": "code",
   "execution_count": 2,
   "metadata": {},
   "outputs": [
    {
     "name": "stdout",
     "output_type": "stream",
     "text": "利用列表解析实现将多维数组合并\n[[1, 2], [3, 4], [5, 6]]\n[1, 2, 3, 4, 5, 6]\n"
    }
   ],
   "source": [
    "#利用列表解析实现将多维数组转为单维数组\n",
    "print(\"利用列表解析实现将多维数组合并\")\n",
    "arr=[[1,2],[3,4],[5,6]]\n",
    "arr_sum=[item for arr_sub in arr for item in arr_sub]\n",
    "print(arr)\n",
    "print(arr_sum)"
   ]
  },
  {
   "cell_type": "code",
   "execution_count": 13,
   "metadata": {},
   "outputs": [
    {
     "name": "stdout",
     "output_type": "stream",
     "text": "必须要先定义变量再使用，否则会出错\nNameError: name 'arr_sub' is not defined\n"
    }
   ],
   "source": [
    "#所有变量都应该先定义再使用，所以必须for arr_sub in arr在前\n",
    "try:\n",
    "    arr_sum_try=[item for item in arr_sub for arr_sub in arr]\n",
    "except:\n",
    "    print(\"必须要先定义变量再使用，否则会出错\\nNameError: name 'arr_sub' is not defined\")"
   ]
  },
  {
   "cell_type": "code",
   "execution_count": 14,
   "metadata": {},
   "outputs": [
    {
     "name": "stdout",
     "output_type": "stream",
     "text": "sum of number = 21\nsum of list = [1, 2, 3, 4, 5, 6]\n在Python里面，类型是动态类型。\n一种操作或接口，到底做何操作取决于对象本身。\n比如说同样是+，如果两者都是数字1+1=2，\n如果两者都是字符串，则'1'+'1'='11'。\n所以如果这里的start本身为[]，则会执行列表合并的操作.\n"
    }
   ],
   "source": [
    "#利用sum函数实现合并数组\n",
    "#sum(iterable, start=0, /)\n",
    "#可通过指定初始值来定义操作类型\n",
    "arr_num = [1,2,3,4,5,6]\n",
    "print(f\"sum of number = {sum(arr_num,0)}\\nsum of list = {sum(arr,[])}\")\n",
    "print(\"在Python里面，类型是动态类型。\\n一种操作或接口，到底做何操作取决于对象本身。\\n比如说同样是+，如果两者都是数字1+1=2，\\n如果两者都是字符串，则'1'+'1'='11'。\\n所以如果这里的start本身为[]，则会执行列表合并的操作.\")"
   ]
  },
  {
   "cell_type": "code",
   "execution_count": 15,
   "metadata": {},
   "outputs": [
    {
     "name": "stdout",
     "output_type": "stream",
     "text": "sum 不可以合并字符串 \nTypeError: sum() can't sum strings [use ''.join(seq) instead]\n"
    }
   ],
   "source": [
    "#可以合并数组，但不能合并字符串\n",
    "try:\n",
    "    sum(arr_num,str())\n",
    "except:\n",
    "    print(\"sum 不可以合并字符串 \\nTypeError: sum() can't sum strings [use ''.join(seq) instead]\")"
   ]
  },
  {
   "cell_type": "code",
   "execution_count": 13,
   "metadata": {},
   "outputs": [
    {
     "name": "stdout",
     "output_type": "stream",
     "text": "[[1, 2], [3, 4], [5, 6]]\n[1, 2]\n[1, 2, 3, 4]\n[None, None, None]\n[1, 2, 3, 4, 1, 2, 3, 4, 5, 6]\n"
    }
   ],
   "source": [
    "#合并数组\n",
    "arr_sum2 = []\n",
    "arr_sum2.extend(arr[0])\n",
    "print(arr)\n",
    "print(arr_sum2)\n",
    "arr_sum2.extend(arr[1])\n",
    "print(arr_sum2)\n",
    "print(list(map(arr_sum2.extend, [item for item in arr])))\n",
    "#none 为extend的返回值\n",
    "print(arr_sum2)"
   ]
  },
  {
   "cell_type": "code",
   "execution_count": 16,
   "metadata": {},
   "outputs": [
    {
     "name": "stdout",
     "output_type": "stream",
     "text": "[[3]\n [7]]\n[3 7]\n"
    }
   ],
   "source": [
    "import numpy as np\n",
    "arr_np = np.array([[1,2],[3,4]])\n",
    "# 按行相加，并且保持其二维特性\n",
    "print(np.sum(arr_np, axis=1, keepdims=True))\n",
    "# 按行相加，不保持其二维特性\n",
    "print(np.sum(arr_np, axis=1))"
   ]
  },
  {
   "cell_type": "code",
   "execution_count": 17,
   "metadata": {},
   "outputs": [
    {
     "name": "stdout",
     "output_type": "stream",
     "text": "{0: -10, 1: -10, 2: -9, 3: -10, 4: -7, 5: -7, 6: 10, 7: 6, 8: 3, 9: 3}\n"
    }
   ],
   "source": [
    "#字典解析\n",
    "dict_example = {i:randint(-10,10) for i in range(10)}\n",
    "print(dict_example) "
   ]
  },
  {
   "cell_type": "code",
   "execution_count": 18,
   "metadata": {},
   "outputs": [
    {
     "name": "stdout",
     "output_type": "stream",
     "text": "[(0, -10), (1, -10), (2, -9), (3, -10), (4, -7), (5, -7), (6, 10), (7, 6), (8, 3), (9, 3)]\n利用list()函数将字典转为元组列表\n但第一项只为key\n[(-10, 0), (-10, 1), (-9, 2), (-10, 3), (-7, 4), (-7, 5), (10, 6), (6, 7), (3, 8), (3, 9)]\n[(0, -10), (1, -10), (2, -9), (3, -10), (4, -7), (5, -7), (6, 10), (7, 6), (8, 3), (9, 3)]\nHelp on class zip in module builtins:\n\nclass zip(object)\n |  zip(iter1 [,iter2 [...]]) --> zip object\n |  \n |  Return a zip object whose .__next__() method returns a tuple where\n |  the i-th element comes from the i-th iterable argument.  The .__next__()\n |  method continues until the shortest iterable in the argument sequence\n |  is exhausted and then it raises StopIteration.\n |  \n |  Methods defined here:\n |  \n |  __getattribute__(self, name, /)\n |      Return getattr(self, name).\n |  \n |  __iter__(self, /)\n |      Implement iter(self).\n |  \n |  __new__(*args, **kwargs) from builtins.type\n |      Create and return a new object.  See help(type) for accurate signature.\n |  \n |  __next__(self, /)\n |      Implement next(self).\n |  \n |  __reduce__(...)\n |      Return state information for pickling.\n\n"
    }
   ],
   "source": [
    "#将字典转为元组列表\n",
    "#法一，list()\n",
    "print(list(dict_example.items()))\n",
    "print(\"利用list()函数将字典转为元组列表\\n但第一项只为key\")\n",
    "#法二，列表解析\n",
    "tuple_list1=[(key,value) for key,value in dict_example.items()]\n",
    "tuple_list1=[(value,key) for key,value in dict_example.items()]\n",
    "print(tuple_list1)\n",
    "#法三，zip函数\n",
    "print(list(zip(dict_example.keys(),dict_example.values())))\n",
    "help(zip)"
   ]
  },
  {
   "cell_type": "code",
   "execution_count": 19,
   "metadata": {},
   "outputs": [
    {
     "name": "stdout",
     "output_type": "stream",
     "text": "map函数返回一个生成器对象\n有减小内存的作用，可用next()函数调用\n2\n3\n4\n为一次性的\n[]\n也可以直接用list()转化为列表\n[2, 3, 4]\n"
    }
   ],
   "source": [
    "#匿名函数lambda与迭代函数map、reduce\n",
    "iteration=map(lambda x:x+1,[1,2,3])\n",
    "print(\"map函数返回一个生成器对象\\n有减小内存的作用，可用next()函数调用\")\n",
    "print(next(iteration))\n",
    "print(next(iteration))\n",
    "print(next(iteration))\n",
    "print(\"为一次性的\")\n",
    "print(list(iteration))\n",
    "print(\"也可以直接用list()转化为列表\")\n",
    "print(list(map(lambda x:x+1,[1,2,3])))"
   ]
  },
  {
   "cell_type": "code",
   "execution_count": 20,
   "metadata": {},
   "outputs": [
    {
     "name": "stdout",
     "output_type": "stream",
     "text": "Help on class map in module builtins:\n\nclass map(object)\n |  map(func, *iterables) --> map object\n |  \n |  Make an iterator that computes the function using arguments from\n |  each of the iterables.  Stops when the shortest iterable is exhausted.\n |  \n |  Methods defined here:\n |  \n |  __getattribute__(self, name, /)\n |      Return getattr(self, name).\n |  \n |  __iter__(self, /)\n |      Implement iter(self).\n |  \n |  __new__(*args, **kwargs) from builtins.type\n |      Create and return a new object.  See help(type) for accurate signature.\n |  \n |  __next__(self, /)\n |      Implement next(self).\n |  \n |  __reduce__(...)\n |      Return state information for pickling.\n\n"
    }
   ],
   "source": [
    "list(map(lambda x,y,z: x*y*z, [1,2,3],[1,2,3],[1,2,3]))\n",
    "help(map)"
   ]
  },
  {
   "cell_type": "code",
   "execution_count": 21,
   "metadata": {},
   "outputs": [
    {
     "name": "stdout",
     "output_type": "stream",
     "text": "15\nHelp on built-in function reduce in module _functools:\n\nreduce(...)\n    reduce(function, sequence[, initial]) -> value\n    \n    Apply a function of two arguments cumulatively to the items of a sequence,\n    from left to right, so as to reduce the sequence to a single value.\n    For example, reduce(lambda x, y: x+y, [1, 2, 3, 4, 5]) calculates\n    ((((1+2)+3)+4)+5).  If initial is present, it is placed before the items\n    of the sequence in the calculation, and serves as a default when the\n    sequence is empty.\n\n"
    }
   ],
   "source": [
    "from functools import reduce\n",
    "print(reduce(lambda x, y: x+y, [1,2,3,4,5]))\n",
    "help(reduce)"
   ]
  },
  {
   "cell_type": "code",
   "execution_count": 22,
   "metadata": {},
   "outputs": [
    {
     "name": "stdout",
     "output_type": "stream",
     "text": "[5, -10, -3, 2, 0, -9, -6, -7, 10, -7]\n[10, 5, 2]\n2\n[-10, -9, -7]\n-7\n"
    }
   ],
   "source": [
    "#heapq 输出前n大与第前小\n",
    "print(list_example)\n",
    "print(heapq.nlargest(3,list_example))\n",
    "print(heapq.nlargest(3,list_example)[-1])\n",
    "print(heapq.nsmallest(3,list_example))\n",
    "print(heapq.nsmallest(3,list_example)[-1])\n"
   ]
  },
  {
   "cell_type": "code",
   "execution_count": 1,
   "metadata": {},
   "outputs": [
    {
     "name": "stdout",
     "output_type": "stream",
     "text": "[1, 1, 2, 3, 5]\n"
    }
   ],
   "source": [
    "def Fibonacci_Recursion_tool(n):\n",
    "    if n <= 0:\n",
    "        return 0\n",
    "    elif n == 1:\n",
    "        return 1\n",
    "    else:\n",
    "        return Fibonacci_Recursion_tool(n - 1) + Fibonacci_Recursion_tool(n - 2)\n",
    "\n",
    "\n",
    "def Fibonacci_Recursion(n):\n",
    "    result_list = []\n",
    "    for i in range(1, n + 1): result_list.append(Fibonacci_Recursion_tool(i))\n",
    "    return result_list\n",
    "\n",
    "print(Fibonacci_Recursion(5))"
   ]
  },
  {
   "cell_type": "code",
   "execution_count": 7,
   "metadata": {},
   "outputs": [
    {
     "name": "stdout",
     "output_type": "stream",
     "text": "0\n1\n2\n3\n4\n5\n6\n7\n8\n9\n"
    }
   ],
   "source": [
    "#链表\n",
    "class ListNode(object):\n",
    "    def __init__(self, x):\n",
    "        self.val = x\n",
    "        self.next = None\n",
    "    def show_from_local(self):\n",
    "        print(self.val)\n",
    "        if self.next:\n",
    "            self.next.show_from_local()\n",
    "\n",
    "#初始化列表/遍历列表\n",
    "\n",
    "ans = ListNode(0)\n",
    "head = ans\n",
    "for i in range(10):\n",
    "    head.next = ListNode(i)\n",
    "    head = head.next\n",
    "ans.next.show_from_local()"
   ]
  },
  {
   "cell_type": "code",
   "execution_count": null,
   "metadata": {},
   "outputs": [],
   "source": [
    "l1 = ans.next\n",
    "l2 = ans.next.next\n",
    "def add_two_listnode(ln1,ln2):\n",
    "    _ans = ListNode(0)\n",
    "    _head = _ans.next\n",
    "    _carry = 0\n",
    "    while ln1 or ln2 or _carry:\n",
    "        val1, val2 = 0, 0\n",
    "        try:\n",
    "            val1 = ln1.val\n",
    "            "
   ]
  }
 ]
}