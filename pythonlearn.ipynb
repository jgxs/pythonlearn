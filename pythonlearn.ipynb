{
 "cells": [
  {
   "cell_type": "code",
   "execution_count": null,
   "metadata": {},
   "outputs": [],
   "source": [
    "\n",
    "\n",
    "#f-string\n",
    "welcome_text = \"something of python learning\"\n",
    "\n",
    "print(f\"{welcome_text}\")\n"
   ]
  },
  {
   "cell_type": "code",
   "execution_count": null,
   "metadata": {},
   "outputs": [],
   "source": [
    "#randint 用于产生随机数\n",
    "from random import randint \n",
    "#heapq 堆\n",
    "import heapq\n",
    "#常用工具\n",
    "import functools"
   ]
  },
  {
   "cell_type": "code",
   "execution_count": null,
   "metadata": {},
   "outputs": [],
   "source": [
    "a=[0]*6\n",
    "print(a)"
   ]
  },
  {
   "cell_type": "code",
   "execution_count": null,
   "metadata": {},
   "outputs": [],
   "source": [
    "#复制列表的错误方法\n",
    "b=a\n",
    "print(len(a))\n",
    "b.append(0)\n",
    "print(len(a))\n",
    "#直接用 '=' 赋值，会使得对b的操作也会在a上发生"
   ]
  },
  {
   "cell_type": "code",
   "execution_count": null,
   "metadata": {},
   "outputs": [],
   "source": [
    "#原因在于：python中的变量相当于c++中的指针，\n",
    "#操作的对象是对于内存地址上的值，而非变量本身\n",
    "print(id(a))\n",
    "print(id(b))\n",
    "b.append(0)\n",
    "print(len(a))\n",
    "print(id(a))"
   ]
  },
  {
   "cell_type": "code",
   "execution_count": null,
   "metadata": {},
   "outputs": [],
   "source": [
    "#正确的复制方法\n",
    "import copy\n",
    "a = [[10], 20]\n",
    "b = a[:]\n",
    "c = list(a)\n",
    "d = a * 1\n",
    "e = copy.copy(a)\n",
    "f = copy.deepcopy(a)\n",
    "print(id(a), a)\n",
    "print(id(b), b)\n",
    "print(id(c), c)\n",
    "print(id(d), d)\n",
    "print(id(e), e)\n",
    "print(id(f), f)\n",
    "a.append(21)\n",
    "a[0].append(11)\n",
    "print(id(a), a)\n",
    "print(id(a[0]))\n",
    "print(id(b), b)\n",
    "print(id(b[0]))\n",
    "print(id(c), c)\n",
    "print(id(d), d)\n",
    "print(id(e), e)\n",
    "print(id(f), f)\n",
    "print(id(f[0]))\n",
    "#可以看出，使用 a[:], list(a), a*1, copy.copy(a)四种方式复制列表,\n",
    "#结果都可以得到一个新的列表。\n",
    "#但是如果列表中含有列表，所有b, c, d, e四个新列表的子列表都是指引到同一个对象上。\n",
    "#只有使用copy.deepcopy(a)方法得到的新列表f才是包括子列表在内的完全复制。"
   ]
  },
  {
   "cell_type": "code",
   "execution_count": null,
   "metadata": {},
   "outputs": [],
   "source": [
    "#删除元素的正确方法，注意检索\n",
    "#正向的remove和pop将改变其余所有元素的检索和位置\n",
    "#所以没\n",
    "test=[i for i in range(10)]\n",
    "print(test)\n",
    "for i in test:\n",
    "    test.remove(i)\n",
    "print(test)\n",
    "test=[i for i in range(10)]\n",
    "print(test)\n",
    "count=0\n",
    "for i in range(len(test)):\n",
    "    test.pop(i-count)\n",
    "    count+=1\n",
    "print(test)\n",
    "test = [i for i in range(10)]\n",
    "for i in range(len(test)):\n",
    "    test.pop()\n",
    "print(test)"
   ]
  },
  {
   "cell_type": "code",
   "execution_count": null,
   "metadata": {},
   "outputs": [],
   "source": [
    "test.append(0)\n",
    "help(test.pop())"
   ]
  },
  {
   "cell_type": "code",
   "execution_count": null,
   "metadata": {},
   "outputs": [],
   "source": [
    "#列表解析\n",
    "#列表解析给函数赋值\n",
    "def get_dis(pos1, pos2) :\n",
    "    x1,y1,z1=[float(pos1[i]) for i in range(3)]\n",
    "    x2,y2,z2=[float(pos2[i]) for i in range(3)]\n",
    "    dis=((x1-x2)**2 + (y1-y2)**2 +(z1-z2)**2)**0.5\n",
    "    return dis\n",
    "print(get_dis([0,0,0],[3,4,12]))"
   ]
  },
  {
   "cell_type": "code",
   "execution_count": null,
   "metadata": {},
   "outputs": [],
   "source": [
    "#利用列表解析产生10个随机数\n",
    "print(\"利用列表解析产生10个随机数\")\n",
    "list_example = [randint(-10,10) for i in range(10)]\n",
    "print(list_example)"
   ]
  },
  {
   "cell_type": "code",
   "execution_count": null,
   "metadata": {},
   "outputs": [],
   "source": [
    "#利用列表解析筛选符合要求的项\n",
    "print(\"利用列表解析筛选符合要求的项\")\n",
    "list_refine=[item for item in list_example if item > 0]\n",
    "print(f\"从\\n{list_example} \\n筛选出所有正数\\n{list_refine}\")"
   ]
  },
  {
   "cell_type": "code",
   "execution_count": null,
   "metadata": {},
   "outputs": [],
   "source": [
    "#利用列表解析实现将多维数组转为单维数组\n",
    "print(\"利用列表解析实现将多维数组合并\")\n",
    "arr=[[1,2],[3,4],[5,6]]\n",
    "arr_sum=[item for arr_sub in arr for item in arr_sub]\n",
    "print(arr)\n",
    "print(arr_sum)"
   ]
  },
  {
   "cell_type": "code",
   "execution_count": null,
   "metadata": {},
   "outputs": [],
   "source": [
    "#所有变量都应该先定义再使用，所以必须for arr_sub in arr在前\n",
    "try:\n",
    "    arr_sum_try=[item for item in arr_sub for arr_sub in arr]\n",
    "except:\n",
    "    print(\"必须要先定义变量再使用，否则会出错\\nNameError: name 'arr_sub' is not defined\")"
   ]
  },
  {
   "cell_type": "code",
   "execution_count": null,
   "metadata": {},
   "outputs": [],
   "source": [
    "#利用sum函数实现合并数组\n",
    "#sum(iterable, start=0, /)\n",
    "#可通过指定初始值来定义操作类型\n",
    "arr_num = [1,2,3,4,5,6]\n",
    "print(f\"sum of number = {sum(arr_num,0)}\\nsum of list = {sum(arr,[])}\")\n",
    "print(\"在Python里面，类型是动态类型。\\n一种操作或接口，到底做何操作取决于对象本身。\\n比如说同样是+，如果两者都是数字1+1=2，\\n如果两者都是字符串，则'1'+'1'='11'。\\n所以如果这里的start本身为[]，则会执行列表合并的操作.\")"
   ]
  },
  {
   "cell_type": "code",
   "execution_count": null,
   "metadata": {},
   "outputs": [],
   "source": [
    "#可以合并数组，但不能合并字符串\n",
    "try:\n",
    "    sum(arr_num,str())\n",
    "except:\n",
    "    print(\"sum 不可以合并字符串 \\nTypeError: sum() can't sum strings [use ''.join(seq) instead]\")"
   ]
  },
  {
   "cell_type": "code",
   "execution_count": null,
   "metadata": {},
   "outputs": [],
   "source": [
    "#合并数组\n",
    "arr_sum2 = []\n",
    "arr_sum2.extend(arr[0])\n",
    "print(arr)\n",
    "print(arr_sum2)\n",
    "arr_sum2.extend(arr[1])\n",
    "print(arr_sum2)\n",
    "print(list(map(arr_sum2.extend, [item for item in arr])))\n",
    "#none 为extend的返回值\n",
    "print(arr_sum2)"
   ]
  },
  {
   "cell_type": "code",
   "execution_count": null,
   "metadata": {},
   "outputs": [],
   "source": [
    "import numpy as np\n",
    "arr_np = np.array([[1,2],[3,4]])\n",
    "# 按行相加，并且保持其二维特性\n",
    "print(np.sum(arr_np, axis=1, keepdims=True))\n",
    "# 按行相加，不保持其二维特性\n",
    "print(np.sum(arr_np, axis=1))"
   ]
  },
  {
   "cell_type": "code",
   "execution_count": null,
   "metadata": {},
   "outputs": [],
   "source": [
    "#字典解析\n",
    "dict_example = {i:randint(-10,10) for i in range(10)}\n",
    "print(dict_example) "
   ]
  },
  {
   "cell_type": "code",
   "execution_count": null,
   "metadata": {},
   "outputs": [],
   "source": [
    "#将字典转为元组列表\n",
    "#法一，list()\n",
    "print(list(dict_example.items()))\n",
    "print(\"利用list()函数将字典转为元组列表\\n但第一项只为key\")\n",
    "#法二，列表解析\n",
    "tuple_list1=[(key,value) for key,value in dict_example.items()]\n",
    "tuple_list1=[(value,key) for key,value in dict_example.items()]\n",
    "print(tuple_list1)\n",
    "#法三，zip函数\n",
    "print(list(zip(dict_example.keys(),dict_example.values())))\n",
    "help(zip)"
   ]
  },
  {
   "cell_type": "code",
   "execution_count": null,
   "metadata": {},
   "outputs": [],
   "source": [
    "#匿名函数lambda与迭代函数map、reduce\n",
    "iteration=map(lambda x:x+1,[1,2,3])\n",
    "print(\"map函数返回一个生成器对象\\n有减小内存的作用，可用next()函数调用\")\n",
    "print(next(iteration))\n",
    "print(next(iteration))\n",
    "print(next(iteration))\n",
    "print(\"为一次性的\")\n",
    "print(list(iteration))\n",
    "print(\"也可以直接用list()转化为列表\")\n",
    "print(list(map(lambda x:x+1,[1,2,3])))"
   ]
  },
  {
   "cell_type": "code",
   "execution_count": null,
   "metadata": {},
   "outputs": [],
   "source": [
    "list(map(lambda x,y,z: x*y*z, [1,2,3],[1,2,3],[1,2,3]))\n",
    "help(map)"
   ]
  },
  {
   "cell_type": "code",
   "execution_count": null,
   "metadata": {},
   "outputs": [],
   "source": [
    "from functools import reduce\n",
    "print(reduce(lambda x, y: x+y, [1,2,3,4,5] ,7))\n",
    "help(reduce)"
   ]
  },
  {
   "cell_type": "code",
   "execution_count": null,
   "metadata": {},
   "outputs": [],
   "source": [
    "#heapq 输出前n大与第前小\n",
    "print(list_example)\n",
    "print(heapq.nlargest(3,list_example))\n",
    "print(heapq.nlargest(3,list_example)[-1])\n",
    "print(heapq.nsmallest(3,list_example))\n",
    "print(heapq.nsmallest(3,list_example)[-1])\n"
   ]
  },
  {
   "cell_type": "code",
   "execution_count": null,
   "metadata": {},
   "outputs": [],
   "source": [
    "def Fibonacci_Recursion_tool(n):\n",
    "    if n <= 0:\n",
    "        return 0\n",
    "    elif n == 1:\n",
    "        return 1\n",
    "    else:\n",
    "        return Fibonacci_Recursion_tool(n - 1) + Fibonacci_Recursion_tool(n - 2)\n",
    "\n",
    "\n",
    "def Fibonacci_Recursion(n):\n",
    "    result_list = []\n",
    "    for i in range(1, n + 1): result_list.append(Fibonacci_Recursion_tool(i))\n",
    "    return result_list\n",
    "\n",
    "print(Fibonacci_Recursion(5))"
   ]
  },
  {
   "cell_type": "code",
   "execution_count": null,
   "metadata": {},
   "outputs": [],
   "source": [
    "#链表\n",
    "class ListNode(object):\n",
    "    def __init__(self, x):\n",
    "        self.val = x\n",
    "        self.next = None\n",
    "    def show_from_local(self):\n",
    "        print(self.val)\n",
    "        if self.next:\n",
    "            self.next.show_from_local()\n",
    "\n",
    "#初始化列表/遍历列表\n",
    "\n",
    "ans = ListNode(0)\n",
    "head = ans\n",
    "for i in range(10):\n",
    "    head.next = ListNode(i)\n",
    "    head = head.next\n",
    "ans.next.show_from_local()"
   ]
  },
  {
   "cell_type": "code",
   "execution_count": null,
   "metadata": {},
   "outputs": [],
   "source": [
    "#三元表达式\n",
    "a, b = 2, 1\n",
    "x = a if a > b else b\n",
    "print(x)\n",
    "\n",
    "a, b = 1, 2\n",
    "x = a if a > b else b\n",
    "print(x)\n"
   ]
  },
  {
   "cell_type": "code",
   "execution_count": null,
   "metadata": {},
   "outputs": [],
   "source": [
    "#队列\n",
    "import queue\n",
    "q = queue.Queue()\n",
    "\n",
    "for i in range(5):\n",
    "    q.put(i)\n",
    "\n",
    "while not q.empty():\n",
    "    print(q.get())"
   ]
  },
  {
   "cell_type": "code",
   "execution_count": null,
   "metadata": {},
   "outputs": [],
   "source": [
    "print(type(globals()))\n",
    "print(globals())\n",
    "#globals() 的内建函数。它返回当前运行程序的所有全局变量，类型为字典。"
   ]
  },
  {
   "cell_type": "code",
   "execution_count": null,
   "metadata": {},
   "outputs": [],
   "source": [
    "#装饰器"
   ]
  }
 ],
 "metadata": {
  "file_extension": ".py",
  "kernelspec": {
   "display_name": "Python 3.8.3 64-bit ('rdkit_new': conda)",
   "language": "python",
   "name": "python38364bitrdkitnewcondaf895dc51750247fba5b8b2ae0dc864bf"
  },
  "language_info": {
   "codemirror_mode": {
    "name": "ipython",
    "version": 3
   },
   "name": "python",
   "version": "3.8.3-final"
  },
  "mimetype": "text/x-python",
  "name": "python",
  "npconvert_exporter": "python",
  "pygments_lexer": "ipython3",
  "version": 3
 },
 "nbformat": 4,
 "nbformat_minor": 2
}